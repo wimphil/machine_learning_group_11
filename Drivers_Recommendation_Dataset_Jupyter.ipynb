{
 "cells": [
  {
   "cell_type": "code",
   "execution_count": null,
   "id": "initial_id",
   "metadata": {
    "collapsed": true
   },
   "outputs": [],
   "source": [
    "#first run pip install ucimlrepo\n",
    "import pandas as pd\n",
    "from ucimlrepo import fetch_ucirepo\n",
    "import matplotlib.pyplot as plt"
   ]
  },
  {
   "metadata": {},
   "cell_type": "code",
   "outputs": [],
   "execution_count": null,
   "source": [
    "# fetch dataset\n",
    "in_vehicle_coupon_recommendation = fetch_ucirepo(id=603)\n",
    "\n",
    "# data (as pandas dataframes)\n",
    "X = in_vehicle_coupon_recommendation.data.features\n",
    "y = in_vehicle_coupon_recommendation.data.targets\n"
   ],
   "id": "874b3d65e3172349"
  },
  {
   "metadata": {},
   "cell_type": "code",
   "outputs": [],
   "execution_count": null,
   "source": [
    "\n",
    "# metadata\n",
    "#print(in_vehicle_coupon_recommendation.metadata)\n",
    "pd.set_option('display.max_columns', None)  # Show all columns\n",
    "#print(X.head())\n",
    "# variable information\n",
    "#print(in_vehicle_coupon_recommendation.variables)\n",
    "#print(len(X))\n",
    "#print(X.info())\n",
    "#print(X.describe())"
   ],
   "id": "9de9ca9a1706db27"
  },
  {
   "metadata": {},
   "cell_type": "markdown",
   "source": "Plot the Percentage of missing values",
   "id": "c3476bef41e9e184"
  },
  {
   "metadata": {},
   "cell_type": "code",
   "outputs": [],
   "execution_count": null,
   "source": [
    "\n",
    "#####################################Barchart of missing values#######\n",
    "# 1. Calculate percentage of missing values for each column\n",
    "missing_percent = X.isnull().mean() * 100\n",
    "missing_percent = missing_percent[missing_percent > 0].sort_values(ascending=False)\n",
    "\n",
    "# 2. Create the bar chart\n",
    "plt.figure(figsize=(10, 6))\n",
    "ax = missing_percent.plot(kind='bar', color='steelblue')\n",
    "\n",
    "# 3. Add labels and title\n",
    "plt.title('Percentage of Missing Values per Feature', fontsize=14)\n",
    "plt.xlabel('Features', fontsize=12)\n",
    "plt.ylabel('Missing Values (%)', fontsize=12)\n",
    "plt.xticks(rotation=45, ha='right')\n",
    "plt.grid(axis='y', linestyle='--', alpha=0.7)\n",
    "\n",
    "# use of container\n",
    "for container in ax.containers:\n",
    "    ax.bar_label(container, fmt='%.1f%%', label_type='edge', color='blue')\n",
    "\n",
    "plt.tight_layout()\n",
    "plt.show()"
   ],
   "id": "1f041d9f5259792b"
  }
 ],
 "metadata": {
  "kernelspec": {
   "display_name": "Python 3",
   "language": "python",
   "name": "python3"
  },
  "language_info": {
   "codemirror_mode": {
    "name": "ipython",
    "version": 2
   },
   "file_extension": ".py",
   "mimetype": "text/x-python",
   "name": "python",
   "nbconvert_exporter": "python",
   "pygments_lexer": "ipython2",
   "version": "2.7.6"
  }
 },
 "nbformat": 4,
 "nbformat_minor": 5
}
